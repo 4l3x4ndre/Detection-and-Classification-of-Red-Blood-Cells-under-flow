{
 "cells": [
  {
   "cell_type": "code",
   "execution_count": 122,
   "id": "9a5f7562-a6ed-4cdf-907e-0a98ea44dddc",
   "metadata": {},
   "outputs": [],
   "source": [
    "import  matplotlib.pyplot as plt\n",
    "import cv2\n",
    "from scipy import ndimage\n",
    "import os\n",
    "import numpy as np\n",
    "from PIL import Image\n",
    "from tqdm import tqdm"
   ]
  },
  {
   "cell_type": "code",
   "execution_count": 123,
   "id": "ae6b8a73-21f4-4d27-a07b-85b2e6a4e32b",
   "metadata": {},
   "outputs": [],
   "source": [
    "from cellpose import models\n",
    "from cellpose.io import imread\n",
    "\n",
    "# model_type='cyto' or model_type='nuclei'\n",
    "model = models.Cellpose(gpu=False, model_type='nuclei')"
   ]
  },
  {
   "cell_type": "markdown",
   "id": "0e54e0b3-2d38-451f-8150-605297ceaed6",
   "metadata": {},
   "source": [
    "# Parachutes"
   ]
  },
  {
   "cell_type": "code",
   "execution_count": 143,
   "id": "1dc1d049-f442-4580-8fa9-1071233e34d9",
   "metadata": {},
   "outputs": [
    {
     "name": "stdout",
     "output_type": "stream",
     "text": [
      "3000\n"
     ]
    }
   ],
   "source": [
    "path_dataset = os.path.join(\"..\", \"data\", \"2018_plos\", \"Croissant\")\n",
    "images_names = os.listdir(path_dataset)\n",
    "print(len(images_names))"
   ]
  },
  {
   "cell_type": "code",
   "execution_count": 130,
   "id": "b1a24087-c4a3-402e-83f9-4b574fd44bb9",
   "metadata": {},
   "outputs": [],
   "source": [
    "images = [np.array(Image.open(os.path.join(path_dataset, iname))) for iname in images_names if iname.endswith(\"bmp\")]"
   ]
  },
  {
   "cell_type": "code",
   "execution_count": 125,
   "id": "95399ae1-00dd-40e9-98cd-fe89a0f0d0c4",
   "metadata": {},
   "outputs": [
    {
     "name": "stdout",
     "output_type": "stream",
     "text": [
      "10\n"
     ]
    }
   ],
   "source": [
    "# Select only a subset of above for testing\n",
    "N = 10\n",
    "images = [np.array(Image.open(os.path.join(path_dataset, iname))) for iname in images_names[:N]  if iname.endswith(\"bmp\")]\n",
    "print(len(images))"
   ]
  },
  {
   "cell_type": "code",
   "execution_count": 131,
   "id": "b23484e8-ad54-443d-9513-095fe057c47d",
   "metadata": {},
   "outputs": [
    {
     "name": "stderr",
     "output_type": "stream",
     "text": [
      " 11%|███████                                                          | 324/3000 [00:44<06:39,  6.70it/s]no seeds found in get_masks_torch - no masks found.\n",
      " 53%|██████████████████████████████████                              | 1596/3000 [03:39<03:27,  6.77it/s]no seeds found in get_masks_torch - no masks found.\n",
      " 57%|████████████████████████████████████▏                           | 1697/3000 [03:53<03:00,  7.22it/s]no seeds found in get_masks_torch - no masks found.\n",
      " 65%|█████████████████████████████████████████▎                      | 1939/3000 [04:27<02:14,  7.87it/s]no seeds found in get_masks_torch - no masks found.\n",
      " 66%|██████████████████████████████████████████▎                     | 1986/3000 [04:33<01:52,  9.01it/s]no seeds found in get_masks_torch - no masks found.\n",
      " 77%|█████████████████████████████████████████████████▎              | 2310/3000 [05:18<01:36,  7.17it/s]no seeds found in get_masks_torch - no masks found.\n",
      " 83%|████████████████████████████████████████████████████▊           | 2478/3000 [05:40<01:04,  8.04it/s]no seeds found in get_masks_torch - no masks found.\n",
      "100%|████████████████████████████████████████████████████████████████| 3000/3000 [06:50<00:00,  7.31it/s]\n"
     ]
    }
   ],
   "source": [
    "masks = []\n",
    "\n",
    "for image in tqdm(images):\n",
    "    m, _, _, _ = model.eval(image, diameter=60, channels=[0,0],\n",
    "                                         flow_threshold=0.4, do_3D=False)\n",
    "    masks.append(m)\n",
    "    \n",
    "# masks is a list of np arrays"
   ]
  },
  {
   "cell_type": "markdown",
   "id": "9da0482b-518a-4da6-af84-161b92484191",
   "metadata": {},
   "source": [
    "Example of a mask:"
   ]
  },
  {
   "cell_type": "code",
   "execution_count": 132,
   "id": "89f96151-ee03-4f81-9358-a5941969ab9e",
   "metadata": {},
   "outputs": [
    {
     "data": {
      "text/plain": [
       "<matplotlib.image.AxesImage at 0x7730d5de0b90>"
      ]
     },
     "execution_count": 132,
     "metadata": {},
     "output_type": "execute_result"
    },
    {
     "data": {
      "image/png": "[encoded data removed]",
      "text/plain": [
       "<Figure size 640x480 with 1 Axes>"
      ]
     },
     "metadata": {},
     "output_type": "display_data"
    }
   ],
   "source": [
    "plt.imshow(masks[0])"
   ]
  },
  {
   "cell_type": "code",
   "execution_count": 133,
   "id": "ac9635bb-2945-4e0e-8203-d4fbf95a4611",
   "metadata": {},
   "outputs": [
    {
     "name": "stderr",
     "output_type": "stream",
     "text": [
      "100%|██████████████████████████████████████████████████████████████| 3000/3000 [00:01<00:00, 2303.30it/s]\n"
     ]
    }
   ],
   "source": [
    "save_cell_images_to = os.path.join(path_dataset, \"..\", \"Parachute_extracted\")\n",
    "os.makedirs(save_cell_images_to, exist_ok=True)\n",
    "def delete_all_files(path):\n",
    "    for filename in os.listdir(path):\n",
    "        file_path = os.path.join(path, filename)\n",
    "        if os.path.isfile(file_path):\n",
    "            os.remove(file_path)\n",
    "delete_all_files(save_cell_images_to)\n",
    "\n",
    "for filename, image, mask in tqdm(list(zip(images_names, images, masks))):\n",
    "\n",
    "    label_at_center = mask[mask.shape[1]//2, mask.shape[0]//2]\n",
    "    if label_at_center == 0:\n",
    "        continue # No cell\n",
    "\n",
    "    cell_mask = mask == label_at_center\n",
    "\n",
    "    ys, xs = np.where(cell_mask)\n",
    "    \n",
    "    # nuclei model crops too much => 5px padding\n",
    "    h, w = image.shape\n",
    "    x_min, x_max = max(xs.min()-5, 0), min(xs.max()+5, w)\n",
    "    y_min, y_max = max(ys.min()-5, 0), min(ys.max()+5, h)\n",
    "    bbox = (x_min, y_min, x_max, y_max)\n",
    "    width, height = x_max - x_min, y_max - y_min\n",
    "    if abs(height/width - 1) > .5: \n",
    "        continue # Cells should be rough square, not rectangles\n",
    "\n",
    "    cell = image[y_min:y_max, x_min:x_max]\n",
    "    mask_slice = cell_mask[y_min:y_max, x_min:x_max]\n",
    "    cell[mask_slice == 0] = 0\n",
    "\n",
    "    Image.fromarray(cell).save(os.path.join(save_cell_images_to, filename))\n",
    "    continue # no plots\n",
    "    \n",
    "    plt.figure(figsize=(20, 10))\n",
    "    plt.subplot(141)\n",
    "    plt.imshow(image, cmap='gray', vmin=0, vmax=255)\n",
    "    plt.subplot(142)\n",
    "    plt.imshow(mask)\n",
    "    plt.subplot(143)\n",
    "    plt.imshow(cell_mask)\n",
    "    plt.subplot(144)\n",
    "    plt.imshow(cell, cmap='gray', vmin=0, vmax=255)\n",
    "    plt.show()"
   ]
  },
  {
   "cell_type": "markdown",
   "id": "17a51131-6c0b-4d9c-a0d3-b25f59b766b7",
   "metadata": {},
   "source": [
    "# Slippers"
   ]
  },
  {
   "cell_type": "code",
   "execution_count": 134,
   "id": "385f3adc-2905-4452-9189-7515eedf5c41",
   "metadata": {},
   "outputs": [
    {
     "name": "stdout",
     "output_type": "stream",
     "text": [
      "3000\n"
     ]
    }
   ],
   "source": [
    "path_dataset = os.path.join(\"..\", \"data\", \"2018_plos\", \"Slipper\")\n",
    "images_names = os.listdir(path_dataset)\n",
    "print(len(images_names))"
   ]
  },
  {
   "cell_type": "code",
   "execution_count": 135,
   "id": "be179b4b-d502-4a54-80e5-7a43015a0b9d",
   "metadata": {},
   "outputs": [],
   "source": [
    "images = [np.array(Image.open(os.path.join(path_dataset, iname))) for iname in images_names if iname.endswith(\"bmp\")]"
   ]
  },
  {
   "cell_type": "code",
   "execution_count": 74,
   "id": "1a32ddfd-2d04-4a8c-9a33-00d636635a82",
   "metadata": {},
   "outputs": [
    {
     "name": "stdout",
     "output_type": "stream",
     "text": [
      "5\n"
     ]
    }
   ],
   "source": [
    "# Select only a subset of above for testing\n",
    "N = 5\n",
    "images = [np.array(Image.open(os.path.join(path_dataset, iname))) for iname in images_names[:N]  if iname.endswith(\"bmp\")]\n",
    "print(len(images))"
   ]
  },
  {
   "cell_type": "code",
   "execution_count": 136,
   "id": "70b65dd7-623a-446d-b9e5-b8426276f6ef",
   "metadata": {},
   "outputs": [
    {
     "name": "stderr",
     "output_type": "stream",
     "text": [
      "100%|████████████████████████████████████████████████████████████████| 3000/3000 [05:55<00:00,  8.43it/s]\n"
     ]
    }
   ],
   "source": [
    "masks = []\n",
    "\n",
    "for image in tqdm(images):\n",
    "    m, _, _, _ = model.eval(image, diameter=60, channels=[0,0],\n",
    "                                         flow_threshold=0.4, do_3D=False)\n",
    "    masks.append(m)\n",
    "    \n",
    "# masks is a list of np arrays"
   ]
  },
  {
   "cell_type": "code",
   "execution_count": 137,
   "id": "a7594e8f-599d-4a83-b0fd-1aacb0a53be4",
   "metadata": {},
   "outputs": [
    {
     "data": {
      "text/plain": [
       "<matplotlib.image.AxesImage at 0x77313655d5e0>"
      ]
     },
     "execution_count": 137,
     "metadata": {},
     "output_type": "execute_result"
    },
    {
     "data": {
      "image/png": "[encoded data removed]",
      "text/plain": [
       "<Figure size 640x480 with 1 Axes>"
      ]
     },
     "metadata": {},
     "output_type": "display_data"
    }
   ],
   "source": [
    "# demo mask:\n",
    "plt.imshow(masks[0])"
   ]
  },
  {
   "cell_type": "code",
   "execution_count": 139,
   "id": "e74438c6-9902-42de-a0fd-92aa11d8ff87",
   "metadata": {},
   "outputs": [
    {
     "name": "stderr",
     "output_type": "stream",
     "text": [
      "100%|██████████████████████████████████████████████████████████████| 3000/3000 [00:02<00:00, 1268.05it/s]\n"
     ]
    }
   ],
   "source": [
    "save_cell_images_to = os.path.join(path_dataset, \"..\", \"Slipper_extracted\")\n",
    "os.makedirs(save_cell_images_to, exist_ok=True)\n",
    "def delete_all_files(path):\n",
    "    for filename in os.listdir(path):\n",
    "        file_path = os.path.join(path, filename)\n",
    "        if os.path.isfile(file_path):\n",
    "            os.remove(file_path)\n",
    "delete_all_files(save_cell_images_to)\n",
    "\n",
    "for filename, image, mask in tqdm(list(zip(images_names, images, masks))):\n",
    "\n",
    "    # No center label verification, as slippers are not at\n",
    "    # the center of vessels.\n",
    "    \"\"\"\n",
    "    label_at_center = mask[mask.shape[1]//2, mask.shape[0]//2]\n",
    "    if label_at_center == 0:\n",
    "        continue # No cell\n",
    "    cell_mask = mask == label_at_center\n",
    "    \"\"\"\n",
    "    cell_mask = mask\n",
    "\n",
    "    if len(np.unique(mask)) == 1:\n",
    "        # Mask if full a a value, certainly zero, \n",
    "        # meaning no cell found\n",
    "        continue\n",
    "\n",
    "    ys, xs = np.where(cell_mask)\n",
    "    \n",
    "    # nuclei model crops too much => 5px padding\n",
    "    h, w = image.shape\n",
    "    x_min, x_max = max(xs.min()-5, 0), min(xs.max()+5, w)\n",
    "    y_min, y_max = max(ys.min()-5, 0), min(ys.max()+5, h)\n",
    "    bbox = (x_min, y_min, x_max, y_max)\n",
    "    width, height = x_max - x_min, y_max - y_min\n",
    "    \n",
    "    if 1.5 < abs(height/width - 1) > 2.5: \n",
    "        continue # Slipper should be rectangles\n",
    "    \n",
    "\n",
    "    cell = image[y_min:y_max, x_min:x_max]\n",
    "    mask_slice = cell_mask[y_min:y_max, x_min:x_max]\n",
    "    cell[mask_slice == 0] = 0\n",
    "\n",
    "    Image.fromarray(cell).save(os.path.join(save_cell_images_to, filename))\n",
    "    continue # No plot if uncommented\n",
    "    \n",
    "    plt.figure(figsize=(20, 10))\n",
    "    plt.subplot(141)\n",
    "    plt.imshow(image, cmap='gray', vmin=0, vmax=255)\n",
    "    plt.subplot(142)\n",
    "    plt.imshow(mask)\n",
    "    plt.subplot(143)\n",
    "    plt.imshow(cell_mask)\n",
    "    plt.subplot(144)\n",
    "    plt.imshow(cell, cmap='gray', vmin=0, vmax=255)\n",
    "    plt.show()"
   ]
  },
  {
   "cell_type": "markdown",
   "id": "17c8ca29-343a-49d8-b0db-3d2261152b8e",
   "metadata": {},
   "source": [
    "# Creating test/train splits"
   ]
  },
  {
   "cell_type": "code",
   "execution_count": 140,
   "id": "fb422e79-67e4-408a-b84e-ff3ceb6d147d",
   "metadata": {},
   "outputs": [
    {
     "name": "stdout",
     "output_type": "stream",
     "text": [
      "liang_2024_split_test: 48\n",
      "liang_2024_split_train: 48\n",
      "liang_2024_split_val: 4\n",
      "kihm_2018_split_test: 28\n",
      "kihm_2018_split_train: 68\n",
      "kihm_2018_split_val: 4\n",
      "nouaman_2024_split_test: 48\n",
      "nouaman_2024_split_train: 48\n",
      "nouaman_2024_split_val: 4\n",
      "\n"
     ]
    }
   ],
   "source": [
    "# Load splits percentages in config\n",
    "from omegaconf import DictConfig, OmegaConf\n",
    "from hydra import initialize, compose\n",
    "from random import sample\n",
    "from shutil import copy2\n",
    "\n",
    "with initialize(config_path=\"../conf\", version_base=\"1.3\"):\n",
    "    cfg = compose(config_name=\"config\")\n",
    "    print(OmegaConf.to_yaml(cfg.splits))"
   ]
  },
  {
   "cell_type": "code",
   "execution_count": 141,
   "id": "3015b8c3-855a-4fb0-9d13-64074baa6c32",
   "metadata": {},
   "outputs": [],
   "source": [
    "path_test = os.path.join(cfg.paths.root_abs, cfg.paths.kihm_2018_from_root, \"test\")\n",
    "path_train = os.path.join(cfg.paths.root_abs, cfg.paths.kihm_2018_from_root, \"train\")\n",
    "path_val = os.path.join(cfg.paths.root_abs, cfg.paths.kihm_2018_from_root, \"val\")\n",
    "os.makedirs(path_test, exist_ok=True)\n",
    "os.makedirs(path_train, exist_ok=True)\n",
    "os.makedirs(path_val, exist_ok=True)\n",
    "for subf in (\"parachute\", \"slipper\"):\n",
    "    os.makedirs(os.path.join(path_test, subf), exist_ok=True)\n",
    "    os.makedirs(os.path.join(path_train, subf), exist_ok=True)\n",
    "    os.makedirs(os.path.join(path_val, subf), exist_ok=True)\n",
    "\n",
    "path_source_parachute = os.path.join(cfg.paths.root_abs, cfg.paths.kihm_2018_from_root, \"Parachute_extracted\")\n",
    "path_source_slipper = os.path.join(cfg.paths.root_abs, cfg.paths.kihm_2018_from_root, \"Slipper_extracted\")"
   ]
  },
  {
   "cell_type": "code",
   "execution_count": 142,
   "id": "01ee3926-64b3-40c8-8bfb-c18b255b401d",
   "metadata": {},
   "outputs": [
    {
     "name": "stdout",
     "output_type": "stream",
     "text": [
      "parachute\n",
      "    train: 1694, test: 697, val:99\n",
      "slipper\n",
      "    train: 2034, test: 837, val:119\n"
     ]
    }
   ],
   "source": [
    "for cell_type, path_source_type in [\n",
    "    ('parachute', path_source_parachute), ('slipper', path_source_slipper)\n",
    "]: \n",
    "    print(cell_type)\n",
    "\n",
    "    nb_type = len(os.listdir(path_source_type))\n",
    "    nb_train = int(nb_type *  cfg.splits.kihm_2018_split_train / 100)\n",
    "    nb_test = int(nb_type *  cfg.splits.kihm_2018_split_test / 100)\n",
    "    nb_val = int(nb_type *  cfg.splits.kihm_2018_split_val / 100)\n",
    "    print(f'    train: {nb_train}, test: {nb_test}, val:{nb_val}')\n",
    "    \n",
    "    cells = os.listdir(path_source_type)\n",
    "    \n",
    "    delete_all_files(os.path.join(path_train, cell_type))\n",
    "    delete_all_files(os.path.join(path_test, cell_type))\n",
    "    delete_all_files(os.path.join(path_val, cell_type))\n",
    "\n",
    "\n",
    "    cells_train = sample(cells, nb_train)\n",
    "    remaining = [f for f in os.listdir(path_source_type) if not f in cells_train]\n",
    "    cells_test = sample(remaining, nb_test)\n",
    "    cells_val = [f for f in os.listdir(path_source_type) \n",
    "                 if not f in cells_train and not f in cells_test]\n",
    "    \n",
    "    for pname in cells_train:\n",
    "        copy2(\n",
    "            src=os.path.join(path_source_type, pname),\n",
    "            dst=os.path.join(path_train, cell_type, pname)\n",
    "        )\n",
    "\n",
    "        \n",
    "    for pname in cells_test:\n",
    "        copy2(\n",
    "            src=os.path.join(path_source_type, pname),\n",
    "            dst=os.path.join(path_test, cell_type, pname)\n",
    "        )\n",
    "    for pname in cells_val:\n",
    "        copy2(\n",
    "            src=os.path.join(path_source_type, pname),\n",
    "            dst=os.path.join(path_val, cell_type, pname)\n",
    "        )\n"
   ]
  },
  {
   "cell_type": "code",
   "execution_count": null,
   "id": "ae648272-b930-480a-95fd-10913acb5374",
   "metadata": {},
   "outputs": [],
   "source": []
  },
  {
   "cell_type": "code",
   "execution_count": null,
   "id": "831a4fdd-c715-4b4f-9e40-d4798934f714",
   "metadata": {},
   "outputs": [],
   "source": []
  },
  {
   "cell_type": "code",
   "execution_count": null,
   "id": "adc3fdef-e711-43fb-bad9-f0710c95720a",
   "metadata": {},
   "outputs": [],
   "source": []
  },
  {
   "cell_type": "code",
   "execution_count": null,
   "id": "64f41606-26e6-48b5-99b7-44592ab3264e",
   "metadata": {},
   "outputs": [],
   "source": []
  },
  {
   "cell_type": "code",
   "execution_count": null,
   "id": "eb620976-1f59-4676-8754-036e8034e364",
   "metadata": {},
   "outputs": [],
   "source": []
  },
  {
   "cell_type": "code",
   "execution_count": null,
   "id": "2c25f678-c4f3-4281-8edd-17496de976f2",
   "metadata": {},
   "outputs": [],
   "source": []
  }
 ],
 "metadata": {
  "kernelspec": {
   "display_name": "Python 3 (ipykernel)",
   "language": "python",
   "name": "python3"
  },
  "language_info": {
   "codemirror_mode": {
    "name": "ipython",
    "version": 3
   },
   "file_extension": ".py",
   "mimetype": "text/x-python",
   "name": "python",
   "nbconvert_exporter": "python",
   "pygments_lexer": "ipython3",
   "version": "3.12.3"
  }
 },
 "nbformat": 4,
 "nbformat_minor": 5
}
