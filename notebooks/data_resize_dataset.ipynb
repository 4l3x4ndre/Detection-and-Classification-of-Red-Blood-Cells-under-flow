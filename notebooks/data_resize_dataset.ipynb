{
 "cells": [
  {
   "cell_type": "markdown",
   "id": "ae17616b-d618-468a-aa3e-a4362cda2cb2",
   "metadata": {},
   "source": [
    "## 2024 Nouaman"
   ]
  },
  {
   "cell_type": "code",
   "execution_count": 1,
   "id": "814be19f-f03b-4d8c-87d7-1f2584362d89",
   "metadata": {},
   "outputs": [
    {
     "name": "stdout",
     "output_type": "stream",
     "text": [
      "248\n"
     ]
    }
   ],
   "source": [
    "import os\n",
    "import cv2\n",
    "\n",
    "path_dataset = os.path.join(\"..\", \"Final_dataset_2024\")\n",
    "path_parachutes_1d = os.path.join(path_dataset, \"Slipper\")\n",
    "images = os.listdir(path_parachutes_1d)\n",
    "print(len(images))\n",
    "\n",
    "path_parachutes_1d_zoomed = os.path.join(path_dataset, \"Slipper_zoomed\")\n",
    "os.makedirs(path_parachutes_1d_zoomed)"
   ]
  },
  {
   "cell_type": "code",
   "execution_count": 2,
   "id": "34436c77-412a-4007-9441-2fd20dfb7462",
   "metadata": {},
   "outputs": [
    {
     "name": "stderr",
     "output_type": "stream",
     "text": [
      "100%|██████████████████████████████████████████████████████████████████████████████████████████████████████████████████████████████████████████████████████████████████████████████| 248/248 [00:03<00:00, 64.30it/s]\n"
     ]
    }
   ],
   "source": [
    "import numpy as np\n",
    "from PIL import Image\n",
    "from typing import List\n",
    "import matplotlib.pyplot as plt\n",
    "from tqdm import tqdm\n",
    "\n",
    "def resizeImage(scale_factor:int, path:str, save_dir:str)->List[np.ndarray]:\n",
    "    for images in tqdm(os.listdir(path)):\n",
    "        img = np.array(Image.open(os.path.join(path, images)))\n",
    "\n",
    "        Image.fromarray(\n",
    "            cv2.resize(img, None, fx= scale_factor, fy= scale_factor, interpolation= cv2.INTER_LINEAR)\n",
    "        ).save(os.path.join(save_dir, images))\n",
    "\n",
    "        continue\n",
    "        plt.figure(figsize=(50, 50))\n",
    "        plt.imshow(\n",
    "            cv2.resize(img, None, fx= scale_factor, fy= scale_factor, interpolation= cv2.INTER_LINEAR),\n",
    "            cmap='gray', vmin=0, vmax=255\n",
    "        )\n",
    "        plt.show()\n",
    "        input()\n",
    "        plt.close()\n",
    "\n",
    "resizeImage(5, path_parachutes_1d, path_parachutes_1d_zoomed)"
   ]
  },
  {
   "cell_type": "markdown",
   "id": "aff5e925-52bb-4987-bb9e-65f151637057",
   "metadata": {},
   "source": [
    "## PLOS 2018"
   ]
  },
  {
   "cell_type": "code",
   "execution_count": 5,
   "id": "f2e084f4-7441-47ef-9868-253d2e79e3a5",
   "metadata": {},
   "outputs": [
    {
     "name": "stdout",
     "output_type": "stream",
     "text": [
      "3000\n"
     ]
    }
   ],
   "source": [
    "import os\n",
    "import cv2\n",
    "\n",
    "path_dataset = os.path.join(\"..\", \"data\", \"2018_plos\")\n",
    "path_parachutes = os.path.join(path_dataset, \"Croissant\")\n",
    "images = os.listdir(path_parachutes)\n",
    "print(len(images))\n",
    "\n",
    "path_parachutes_zoomed = os.path.join(path_dataset, \"Croissant_zoomed\")\n",
    "os.makedirs(path_parachutes_zoomed)"
   ]
  },
  {
   "cell_type": "code",
   "execution_count": 6,
   "id": "342c6552-d56c-41e5-9804-cd816ad88938",
   "metadata": {},
   "outputs": [
    {
     "name": "stderr",
     "output_type": "stream",
     "text": [
      "100%|██████████████████████████| 3000/3000 [00:02<00:00, 1151.21it/s]\n"
     ]
    }
   ],
   "source": [
    "import numpy as np\n",
    "from PIL import Image\n",
    "from typing import List\n",
    "import matplotlib.pyplot as plt\n",
    "from tqdm import tqdm\n",
    "\n",
    "def resizeImage(scale_factor:int, path:str, save_dir:str)->List[np.ndarray]:\n",
    "    for images in tqdm(os.listdir(path)):\n",
    "        img = np.array(Image.open(os.path.join(path, images)))\n",
    "\n",
    "        Image.fromarray(\n",
    "            cv2.resize(img, None, fx= scale_factor, fy= scale_factor, interpolation= cv2.INTER_LINEAR)\n",
    "        ).save(os.path.join(save_dir, images))\n",
    "\n",
    "        continue\n",
    "        plt.figure(figsize=(50, 50))\n",
    "        plt.imshow(\n",
    "            cv2.resize(img, None, fx= scale_factor, fy= scale_factor, interpolation= cv2.INTER_LINEAR),\n",
    "            cmap='gray', vmin=0, vmax=255\n",
    "        )\n",
    "        plt.show()\n",
    "        input()\n",
    "        plt.close()\n",
    "\n",
    "resizeImage(2.7, path_parachutes, path_parachutes_zoomed)"
   ]
  },
  {
   "cell_type": "code",
   "execution_count": null,
   "id": "05fad13f-32ea-44d6-aac3-98e675f73a13",
   "metadata": {},
   "outputs": [],
   "source": []
  }
 ],
 "metadata": {
  "kernelspec": {
   "display_name": "Python 3 (ipykernel)",
   "language": "python",
   "name": "python3"
  },
  "language_info": {
   "codemirror_mode": {
    "name": "ipython",
    "version": 3
   },
   "file_extension": ".py",
   "mimetype": "text/x-python",
   "name": "python",
   "nbconvert_exporter": "python",
   "pygments_lexer": "ipython3",
   "version": "3.12.3"
  }
 },
 "nbformat": 4,
 "nbformat_minor": 5
}
