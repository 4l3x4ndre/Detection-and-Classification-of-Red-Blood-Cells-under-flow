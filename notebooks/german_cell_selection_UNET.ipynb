{
  "nbformat": 4,
  "nbformat_minor": 0,
  "metadata": {
    "colab": {
      "provenance": [],
      "toc_visible": true,
      "gpuType": "T4"
    },
    "kernelspec": {
      "name": "python3",
      "display_name": "Python 3"
    },
    "language_info": {
      "name": "python"
    },
    "accelerator": "GPU"
  },
  "cells": [
    {
      "cell_type": "markdown",
      "source": [
        "# Import libraries"
      ],
      "metadata": {
        "id": "PM92T0bK_yzj"
      }
    },
    {
      "cell_type": "code",
      "execution_count": null,
      "metadata": {
        "id": "8YCJnNBJqO6c",
        "colab": {
          "base_uri": "https://localhost:8080/"
        },
        "outputId": "e729011c-8c1b-40e6-caec-59fd985735f8"
      },
      "outputs": [
        {
          "output_type": "stream",
          "name": "stdout",
          "text": [
            "Mounted at /gdrive\n",
            "/gdrive/My Drive/Colab Notebooks/TX\n"
          ]
        }
      ],
      "source": [
        "from google.colab import drive\n",
        "drive.mount('/gdrive')\n",
        "%cd /gdrive/My Drive/Colab Notebooks/TX"
      ]
    },
    {
      "cell_type": "code",
      "source": [
        "import cv2\n",
        "import os\n",
        "import pandas as pd\n",
        "import numpy as np\n",
        "import matplotlib.pyplot as plt\n",
        "import seaborn as sns\n",
        "import glob\n",
        "from tqdm import tqdm\n",
        "\n",
        "import torch\n",
        "from torch.nn import functional as F\n",
        "from skimage import transform, measure\n",
        "from PIL import Image\n",
        "import torchvision.transforms as transforms"
      ],
      "metadata": {
        "id": "ZnEJ8zXPq3oa"
      },
      "execution_count": null,
      "outputs": []
    },
    {
      "cell_type": "markdown",
      "source": [
        "# Functions"
      ],
      "metadata": {
        "id": "FOTpWD3Q_28T"
      }
    },
    {
      "cell_type": "code",
      "source": [
        "def load_images_to_array_tif(folder_path):\n",
        "    \"\"\"\n",
        "    Load all TIF images (including multi-page TIFs) from the specified folders into a NumPy array.\n",
        "    Each page of a multi-page TIF will be loaded as a separate image.\n",
        "\n",
        "    Args:\n",
        "        folder_path: Path to the root folder.\n",
        "\n",
        "    Returns:\n",
        "        images: List of uploaded images (NumPy arrays).\n",
        "        paths: List of paths to original files, with frame index for multi-page TIFs (e.g., 'path/to/image.tif#0').\n",
        "    \"\"\"\n",
        "\n",
        "    images = []\n",
        "    paths = []\n",
        "\n",
        "    base_folders = []\n",
        "    # Iterate through items in the root folder to find the desired base folders\n",
        "    for item in os.listdir(folder_path):\n",
        "        item_path = os.path.join(folder_path, item)\n",
        "        # Check if the item is a directory and matches the naming convention \"v * cm_s\"\n",
        "        if os.path.isdir(item_path) and item.startswith(\"v \") and item.endswith(\" cm_s\"):\n",
        "            base_folders.append(item_path)\n",
        "\n",
        "    # If no folders are found, print a message and return empty lists\n",
        "    if not base_folders:\n",
        "        print(\"No folders found matching the pattern 'v * cm_s'.\")\n",
        "        return images, paths\n",
        "\n",
        "    print(f\"Found {len(base_folders)} folders:\")\n",
        "    for folder in base_folders:\n",
        "        print(f\"- {os.path.basename(folder)}\")\n",
        "\n",
        "    # Process each identified base folder\n",
        "    for base_folder in base_folders:\n",
        "        print(f\"Scanning the folder: {os.path.basename(base_folder)}\")\n",
        "\n",
        "        # Find all .tif files recursively within the base folder\n",
        "        tif_files = glob.glob(os.path.join(base_folder, '**', '*.tif'), recursive=True)\n",
        "\n",
        "        # Use tqdm for a progress bar while loading images\n",
        "        for tif_file in tqdm(tif_files, desc=f\"Loading images from {os.path.basename(base_folder)}\"):\n",
        "            try:\n",
        "                # Open the TIFF file using Pillow\n",
        "                with Image.open(tif_file) as img_pil:\n",
        "                    # Check if it's a multi-page TIFF\n",
        "                    if hasattr(img_pil, 'n_frames') and img_pil.n_frames > 1:\n",
        "                        # Iterate through each frame (page)\n",
        "                        for page_idx in range(img_pil.n_frames):\n",
        "                            img_pil.seek(page_idx)\n",
        "                            # Convert PIL Image to NumPy array (RGB format directly from Pillow)\n",
        "                            img_np = np.array(img_pil.convert('RGB'))\n",
        "\n",
        "                            images.append(img_np)\n",
        "                            # Store the original path with a frame index to identify each unique image\n",
        "                            paths.append(f\"{tif_file}#{page_idx}\")\n",
        "                    else:\n",
        "                        # Handle single-page TIFFs\n",
        "                        img_np = np.array(img_pil.convert('RGB'))\n",
        "                        images.append(img_np)\n",
        "                        paths.append(tif_file) # No frame index needed for single page\n",
        "\n",
        "            except Exception as e:\n",
        "                print(f\"Warning: Could not load TIF file {tif_file}. Error: {e}\")\n",
        "\n",
        "    print(f\"Completed! Loaded {len(images)} images in total.\")\n",
        "\n",
        "    return images, paths\n",
        "\n",
        "# Function to visualize images\n",
        "def show_sample_images(images, labels, categories, num_samples=5):\n",
        "    \"\"\"\n",
        "    View some sample images by category\n",
        "\n",
        "    Args:\n",
        "        images: List of images\n",
        "        labels: List of labels\n",
        "        categories: List of categories\n",
        "        num_samples: Number of samples to display per category\n",
        "    \"\"\"\n",
        "\n",
        "    if not images:\n",
        "        print(\"No images to visualized\")\n",
        "        return\n",
        "\n",
        "    fig, axes = plt.subplots(len(categories), num_samples, figsize=(15, 3*len(categories)))\n",
        "\n",
        "    for cat_idx, category in enumerate(categories):\n",
        "        cat_indices = [i for i, label in enumerate(labels) if label == cat_idx]\n",
        "\n",
        "        samples = min(num_samples, len(cat_indices))\n",
        "\n",
        "        for sample_idx in range(samples):\n",
        "            if len(categories) > 1:\n",
        "                ax = axes[cat_idx, sample_idx]\n",
        "            else:\n",
        "                ax = axes[sample_idx]\n",
        "\n",
        "            img_idx = cat_indices[sample_idx]\n",
        "\n",
        "            ax.imshow(images[img_idx])\n",
        "            ax.set_title(f\"{category}\")\n",
        "            ax.axis('off')\n",
        "\n",
        "        for j in range(samples, num_samples):\n",
        "            if len(categories) > 1:\n",
        "                axes[cat_idx, j].axis('off')\n",
        "            else:\n",
        "                axes[j].axis('off')\n",
        "\n",
        "    plt.tight_layout()\n",
        "    plt.show()\n",
        "\n",
        "# Function to convert list into NumPy\n",
        "def convert_to_numpy_arrays(images, labels):\n",
        "    \"\"\"\n",
        "    Converts lists of images and labels to NumPy arrays\n",
        "\n",
        "    Args:\n",
        "        images: List of images\n",
        "        labels: List of labels\n",
        "\n",
        "    Returns:\n",
        "        X: NumPy array containing all images\n",
        "        y: Array NumPy containing all labels\n",
        "    \"\"\"\n",
        "\n",
        "    if images:\n",
        "        heights = [img.shape[0] for img in images]\n",
        "        widths = [img.shape[1] for img in images]\n",
        "        channels = [img.shape[2] for img in images]\n",
        "\n",
        "        if len(set(heights)) > 1 or len(set(widths)) > 1 or len(set(channels)) > 1:\n",
        "            print(\"WARNING: Images have different sizes!\")\n",
        "            print(f\"Height: {set(heights)}\")\n",
        "            print(f\"Width: {set(widths)}\")\n",
        "            print(f\"Channel: {set(channels)}\")\n",
        "\n",
        "            from collections import Counter\n",
        "            common_height = Counter(heights).most_common(1)[0][0]\n",
        "            common_width = Counter(widths).most_common(1)[0][0]\n",
        "            common_channels = Counter(channels).most_common(1)[0][0]\n",
        "\n",
        "            print(f\"Resizing all images to {common_height}x{common_width}x{common_channels}\")\n",
        "\n",
        "            resized_images = []\n",
        "            for img in tqdm(images, desc=\"Image resizing\"):\n",
        "                if img.shape != (common_height, common_width, common_channels):\n",
        "                    resized = cv2.resize(img, (common_width, common_height))\n",
        "                    resized_images.append(resized)\n",
        "                else:\n",
        "                    resized_images.append(img)\n",
        "\n",
        "            X = np.stack(resized_images, axis=0)\n",
        "        else:\n",
        "            X = np.stack(images, axis=0)\n",
        "    else:\n",
        "        X = np.array([])\n",
        "\n",
        "    y = np.array(labels)\n",
        "\n",
        "    return X, y\n"
      ],
      "metadata": {
        "id": "4gazi3eJsqlJ"
      },
      "execution_count": null,
      "outputs": []
    },
    {
      "cell_type": "code",
      "source": [
        "def load_pretrained_unet(scale=0.5):\n",
        "    \"\"\"\n",
        "    Load the pretrained PyTorch U-Net model from torch.hub\n",
        "    \"\"\"\n",
        "    print(\"Loading pretrained U-Net model from torch.hub...\")\n",
        "    try:\n",
        "        model = torch.hub.load('milesial/Pytorch-UNet', 'unet_carvana', pretrained=True, scale=scale)\n",
        "        model.eval()\n",
        "        if torch.cuda.is_available():\n",
        "            model = model.cuda()\n",
        "            print(\"Model loaded on GPU\")\n",
        "        else:\n",
        "            print(\"Model loaded on CPU\")\n",
        "        return model\n",
        "\n",
        "    except Exception as e:\n",
        "        print(f\"Error loading pretrained U-Net model: {e}\")\n",
        "        return None\n",
        "\n",
        "def preprocess_for_pytorch(images, target_size):\n",
        "    \"\"\"\n",
        "    Preprocess images for the PyTorch U-Net model\n",
        "    \"\"\"\n",
        "    processed_tensors = []\n",
        "    original_sizes = []\n",
        "\n",
        "    # Define the preprocessing transform\n",
        "    preprocess = transforms.Compose([\n",
        "        transforms.Resize(target_size),\n",
        "        transforms.ToTensor()\n",
        "        #transforms.Normalize(mean=[0.485, 0.456, 0.406], std=[0.229, 0.224, 0.225])\n",
        "    ])\n",
        "\n",
        "    for img in images:\n",
        "        # Store original size for later\n",
        "        original_sizes.append((img.shape[0], img.shape[1]))\n",
        "\n",
        "        # Convert to PIL Image for PyTorch transforms\n",
        "        pil_img = Image.fromarray(np.uint8(img * 255) if img.max() <= 1.0 else np.uint8(img))\n",
        "\n",
        "        # Apply preprocessing\n",
        "        tensor = preprocess(pil_img)\n",
        "        processed_tensors.append(tensor)\n",
        "\n",
        "    return processed_tensors, original_sizes\n",
        "\n",
        "def segment_with_pytorch_unet(model, images, target_size, batch_size=4):\n",
        "    \"\"\"\n",
        "    Segment cells using the pretrained PyTorch U-Net model\n",
        "    \"\"\"\n",
        "    print(\"Segmenting cells with PyTorch U-Net...\")\n",
        "    processed_tensors, original_sizes = preprocess_for_pytorch(images, target_size)\n",
        "\n",
        "    masks = []\n",
        "\n",
        "    # Process in batches\n",
        "    with torch.no_grad():\n",
        "        for i in range(0, len(processed_tensors), batch_size):\n",
        "            batch = processed_tensors[i:i+batch_size]\n",
        "            batch_tensor = torch.stack(batch)\n",
        "\n",
        "            # Move to GPU if available\n",
        "            if torch.cuda.is_available():\n",
        "                batch_tensor = batch_tensor.cuda()\n",
        "\n",
        "            # Predict masks\n",
        "            outputs = model(batch_tensor)\n",
        "\n",
        "            # Apply sigmoid to get probability masks\n",
        "            probs = torch.sigmoid(outputs)\n",
        "\n",
        "            # Move back to CPU and convert to numpy\n",
        "            probs = probs.cpu().numpy()\n",
        "\n",
        "            # Add to results\n",
        "            for j in range(probs.shape[0]):\n",
        "                mask = probs[j, 0]  # Get the first (and only) channel\n",
        "                masks.append(mask)\n",
        "\n",
        "    return np.array(masks)\n",
        "\n",
        "def extract_and_crop_cells(images, labels, masks, margin=3, threshold=0.5):\n",
        "    \"\"\"\n",
        "    Extract cells and crop them with a margin around each cell\n",
        "    \"\"\"\n",
        "    print(\"Extracting and cropping cells...\")\n",
        "    cropped_cells = []\n",
        "    cell_metadata = []\n",
        "    binary_masks = []\n",
        "    num_labels = []\n",
        "    num_real_cells = []\n",
        "\n",
        "    for idx, (img, mask) in enumerate(zip(images, masks)):\n",
        "        lab_idx = labels[idx]\n",
        "        # Apply threshold to get binary mask\n",
        "        binary_mask = (mask < threshold).astype(np.uint8)\n",
        "\n",
        "        # Remove small objects and fill holes for better segmentation\n",
        "        binary_mask = cv2.morphologyEx(binary_mask, cv2.MORPH_OPEN, np.ones((3, 3), np.uint8))\n",
        "        binary_mask = cv2.morphologyEx(binary_mask, cv2.MORPH_CLOSE, np.ones((3, 3), np.uint8))\n",
        "\n",
        "        binary_masks.append(binary_mask)\n",
        "\n",
        "        # Find connected components\n",
        "        labeled_mask, num_label = measure.label(binary_mask, return_num=True, connectivity=2)\n",
        "\n",
        "        if num_label == 0:\n",
        "            print(f\"No cells detected in image {idx}\")\n",
        "            continue\n",
        "        num_labels.append(num_label)\n",
        "\n",
        "        print(f\"Found {num_label} cells in image {idx}\")\n",
        "        num_real_cell = 0\n",
        "\n",
        "        # Process each detected cell\n",
        "        for label_idx in range(1, num_label + 1):\n",
        "            # Extract single cell mask\n",
        "            cell_mask = (labeled_mask == label_idx).astype(np.uint8)\n",
        "\n",
        "            # Find cell properties\n",
        "            props = measure.regionprops(cell_mask)\n",
        "            if not props:\n",
        "                continue\n",
        "\n",
        "            # Get cell bounding box\n",
        "            min_row, min_col, max_row, max_col = props[0].bbox\n",
        "\n",
        "            # Check if the cell is too small (might be noise)\n",
        "            cell_height = max_row - min_row\n",
        "            cell_width = max_col - min_col\n",
        "\n",
        "            if cell_height < 5 or cell_width < 5:\n",
        "                continue  # Skip very small regions\n",
        "\n",
        "            if cell_width > 60:\n",
        "                continue  # Skip very large regions\n",
        "\n",
        "            # Calculate radius of the cell (approximating as a circle)\n",
        "            # Using the maximum of height/2 and width/2 to ensure we encompass the entire cell\n",
        "            radius = max(cell_height, cell_width) / 2\n",
        "\n",
        "            # Get the cell center coordinates\n",
        "            center_row = (min_row + max_row) // 2\n",
        "            center_col = (min_col + max_col) // 2\n",
        "\n",
        "            # Calculate cropping boundaries with margin around the cell\n",
        "            crop_min_row = max(0, center_row - radius - margin)\n",
        "            crop_max_row = min(img.shape[0], center_row + radius + margin)\n",
        "            crop_min_col = max(0, center_col - radius - margin)\n",
        "            crop_max_col = min(img.shape[1], center_col + radius + margin)\n",
        "\n",
        "            # Convert to integers\n",
        "            crop_min_row, crop_max_row = int(crop_min_row), int(crop_max_row)\n",
        "            crop_min_col, crop_max_col = int(crop_min_col), int(crop_max_col)\n",
        "\n",
        "            # Crop the cell from original image\n",
        "            cropped_cell = img[crop_min_row:crop_max_row, crop_min_col:crop_max_col].copy()\n",
        "\n",
        "            # Make sure we actually have a cell to save\n",
        "            if cropped_cell.size == 0 or cropped_cell.shape[0] == 0 or cropped_cell.shape[1] == 0:\n",
        "                continue\n",
        "\n",
        "            # Count real cells\n",
        "            if cropped_cell.max() > 1:\n",
        "                num_real_cell = num_real_cell + 1\n",
        "\n",
        "            # Add to results\n",
        "            cropped_cells.append(cropped_cell)\n",
        "\n",
        "            # Store metadata about this cell\n",
        "            cell_metadata.append({\n",
        "                'original_image_idx': idx,\n",
        "                'cell_idx': lab_idx,\n",
        "                'center': (center_row, center_col),\n",
        "                'radius': radius,\n",
        "                'crop_coords': (crop_min_row, crop_min_col, crop_max_row, crop_max_col),\n",
        "                'height': crop_max_row - crop_min_row,\n",
        "                'width': crop_max_col - crop_min_col,\n",
        "                'area': props[0].area\n",
        "            })\n",
        "\n",
        "        print(f\"{num_real_cell} real cells found in image {idx}\")\n",
        "        num_real_cells.append(num_real_cell)\n",
        "\n",
        "    return cropped_cells, cell_metadata, binary_masks, num_labels, num_real_cells\n",
        "\n",
        "def visualize_results(original_images, masks, cropped_cells, cell_metadata, num_samples=3):\n",
        "    \"\"\"\n",
        "    Visualize segmentation and cell extraction results\n",
        "    \"\"\"\n",
        "    num_samples = min(num_samples, len(original_images))\n",
        "\n",
        "    plt.figure(figsize=(15, 5 * num_samples))\n",
        "\n",
        "    for i in range(num_samples):\n",
        "        # Original image\n",
        "        plt.subplot(num_samples, 3, i*3 + 1)\n",
        "        plt.imshow(original_images[i], cmap = 'gray')\n",
        "        plt.title('Mask')\n",
        "        plt.axis('off')\n",
        "\n",
        "        # Mask\n",
        "        plt.subplot(num_samples, 3, i*3 + 2)\n",
        "        plt.imshow(masks[i], cmap='gray')\n",
        "        plt.title('Binary Mask')\n",
        "        plt.axis('off')\n",
        "\n",
        "        # If we have cropped cells, show the first one from this image\n",
        "        cell_indices = [j for j, m in enumerate(cell_metadata) if m['original_image_idx'] == i]\n",
        "\n",
        "        if cell_indices:\n",
        "            plt.subplot(num_samples, 3, i*3 + 3)\n",
        "            plt.imshow(cropped_cells[cell_indices[0]])\n",
        "            plt.title(f'Cropped Cell (r={cell_metadata[cell_indices[0]][\"radius\"]:.1f}px)')\n",
        "            plt.axis('off')\n",
        "\n",
        "    plt.tight_layout()\n",
        "    plt.show()\n",
        "\n",
        "    # Also show a grid of cropped cells if we have many\n",
        "    # if len(cropped_cells) > 9:\n",
        "    #     plt.figure(figsize=(12, 12))\n",
        "    #     for i in range(min(9, len(cropped_cells))):\n",
        "    #         plt.subplot(3, 3, i+1)\n",
        "    #         plt.imshow(cropped_cells[i])\n",
        "    #         meta = cell_metadata[i]\n",
        "    #         plt.title(f'Cell {i} ({meta[\"width\"]}x{meta[\"height\"]}px)')\n",
        "    #         plt.axis('off')\n",
        "    #     plt.tight_layout()\n",
        "    #     plt.show()\n",
        "\n",
        "def save_cropped_cells(cropped_cells, output_dir, original_labels=None, cell_metadata=None):\n",
        "    \"\"\"\n",
        "    Save the cropped cells as images\n",
        "    \"\"\"\n",
        "    if len(cropped_cells) == 0:\n",
        "        print(\"No cropped cells to save.\")\n",
        "        return\n",
        "\n",
        "    os.makedirs(output_dir, exist_ok=True)\n",
        "\n",
        "    # Create subdirectories for each category if labels are provided\n",
        "    if original_labels is not None:\n",
        "        label_dirs = {}\n",
        "        unique_labels = np.unique(original_labels)\n",
        "        for label in unique_labels:\n",
        "            label_dir = os.path.join(output_dir, f\"class_{label}\")\n",
        "            os.makedirs(label_dir, exist_ok=True)\n",
        "            label_dirs[label] = label_dir\n",
        "\n",
        "    # Save each cropped cell\n",
        "    for i, cell_img in enumerate(cropped_cells):\n",
        "        if cell_metadata and i < len(cell_metadata):\n",
        "            metadata = cell_metadata[i]\n",
        "            original_idx = metadata['original_image_idx']\n",
        "\n",
        "            # Determine the label for this cell\n",
        "            if original_labels is not None and original_idx < len(original_labels):\n",
        "                label = original_labels[original_idx]\n",
        "                save_path = os.path.join(label_dirs[label], f\"cell_{original_idx}_{metadata['cell_idx']}.png\")\n",
        "            else:\n",
        "                save_path = os.path.join(output_dir, f\"cell_{i}.png\")\n",
        "        else:\n",
        "            save_path = os.path.join(output_dir, f\"cell_{i}.png\")\n",
        "\n",
        "        # Convert to uint8 for saving\n",
        "        if cell_img.dtype == np.float32 or cell_img.dtype == np.float64:\n",
        "            if cell_img.max() <= 1.0:\n",
        "                cell_img_uint8 = (cell_img * 255).astype(np.uint8)\n",
        "            else:\n",
        "                cell_img_uint8 = cell_img.astype(np.uint8)\n",
        "        else:\n",
        "            cell_img_uint8 = cell_img\n",
        "\n",
        "        # Save the image\n",
        "        plt.imsave(save_path, cell_img_uint8)\n",
        "\n",
        "    print(f\"Saved {len(cropped_cells)} cropped cells to {output_dir}\")\n",
        "\n",
        "def process_cell_images_with_pytorch_unet(images, labels, target_size, scale, margin):\n",
        "    \"\"\"\n",
        "    Main function to process cell images using the pretrained PyTorch U-Net model\n",
        "    \"\"\"\n",
        "    # Step 1: Load pretrained PyTorch U-Net model\n",
        "    model = load_pretrained_unet(scale=scale)\n",
        "    #\n",
        "    if model is None:\n",
        "        print(\"Failed to load pretrained model. Exiting.\")\n",
        "        return None, None, None\n",
        "\n",
        "    # Step 2: Segment cells with the model\n",
        "    masks = segment_with_pytorch_unet(model, images, target_size)\n",
        "\n",
        "    # Step 3: Extract and crop cells (with margin)\n",
        "    cropped_cells, cell_metadata, binary_masks, num_fake_cells, num_real_cells = extract_and_crop_cells(images, labels, masks, margin=margin, threshold= 0.8)\n",
        "\n",
        "    # Step 4: Visualize results\n",
        "    visualize_results(masks, binary_masks, cropped_cells, cell_metadata)\n",
        "\n",
        "    # Step 5: Save cropped cells\n",
        "    output_dir = \"./cropped_cells_2024\"\n",
        "    save_cropped_cells(cropped_cells, output_dir, labels, cell_metadata)\n",
        "\n",
        "    return cropped_cells, cell_metadata, masks, num_fake_cells, num_real_cells\n"
      ],
      "metadata": {
        "id": "MDUR68E9tEr_"
      },
      "execution_count": null,
      "outputs": []
    },
    {
      "cell_type": "markdown",
      "source": [
        "# 2024 study dataset"
      ],
      "metadata": {
        "id": "BwnbVE-SAcyY"
      }
    },
    {
      "cell_type": "code",
      "source": [
        "folder_path_german = \"/gdrive/My Drive/Colab Notebooks/TX/Dataset_original/RBC seq for Badr Kaoui/RBC seq for Badr Kaoui\"\n",
        "categories_german = ['NotDefined']\n",
        "\n",
        "# Load images\n",
        "images_german, paths_german = load_images_to_array_tif(folder_path_german)\n",
        "images, labels = convert_to_numpy_arrays(images_german, categories_german)\n"
      ],
      "metadata": {
        "colab": {
          "base_uri": "https://localhost:8080/"
        },
        "id": "sBq6QKGousI-",
        "outputId": "74a30fd3-dd6b-47db-a9fb-6acf2442f1bc"
      },
      "execution_count": null,
      "outputs": [
        {
          "output_type": "stream",
          "name": "stdout",
          "text": [
            "Found 8 folders:\n",
            "- v 1.25 cm_s\n",
            "- v 1 cm_s\n",
            "- v 0.9 cm_s\n",
            "- v 1.56 cm_s\n",
            "- v 0.56 cm_s\n",
            "- v 0.12 cm_s\n",
            "- v 0.44 cm_s\n",
            "- v 0.7 cm_s\n",
            "Scanning the folder: v 1.25 cm_s\n"
          ]
        },
        {
          "output_type": "stream",
          "name": "stderr",
          "text": [
            "Loading images from v 1.25 cm_s: 100%|██████████| 157/157 [00:26<00:00,  5.98it/s]\n"
          ]
        },
        {
          "output_type": "stream",
          "name": "stdout",
          "text": [
            "Scanning the folder: v 1 cm_s\n"
          ]
        },
        {
          "output_type": "stream",
          "name": "stderr",
          "text": [
            "Loading images from v 1 cm_s: 100%|██████████| 48/48 [00:30<00:00,  1.55it/s]\n"
          ]
        },
        {
          "output_type": "stream",
          "name": "stdout",
          "text": [
            "Scanning the folder: v 0.9 cm_s\n"
          ]
        },
        {
          "output_type": "stream",
          "name": "stderr",
          "text": [
            "Loading images from v 0.9 cm_s: 100%|██████████| 73/73 [00:40<00:00,  1.82it/s]\n"
          ]
        },
        {
          "output_type": "stream",
          "name": "stdout",
          "text": [
            "Scanning the folder: v 1.56 cm_s\n"
          ]
        },
        {
          "output_type": "stream",
          "name": "stderr",
          "text": [
            "Loading images from v 1.56 cm_s: 100%|██████████| 300/300 [00:15<00:00, 18.81it/s]\n"
          ]
        },
        {
          "output_type": "stream",
          "name": "stdout",
          "text": [
            "Scanning the folder: v 0.56 cm_s\n"
          ]
        },
        {
          "output_type": "stream",
          "name": "stderr",
          "text": [
            "Loading images from v 0.56 cm_s: 100%|██████████| 268/268 [00:14<00:00, 18.77it/s]\n"
          ]
        },
        {
          "output_type": "stream",
          "name": "stdout",
          "text": [
            "Scanning the folder: v 0.12 cm_s\n"
          ]
        },
        {
          "output_type": "stream",
          "name": "stderr",
          "text": [
            "Loading images from v 0.12 cm_s: 100%|██████████| 79/79 [00:42<00:00,  1.87it/s]\n"
          ]
        },
        {
          "output_type": "stream",
          "name": "stdout",
          "text": [
            "Scanning the folder: v 0.44 cm_s\n"
          ]
        },
        {
          "output_type": "stream",
          "name": "stderr",
          "text": [
            "Loading images from v 0.44 cm_s: 100%|██████████| 210/210 [00:12<00:00, 16.57it/s]\n"
          ]
        },
        {
          "output_type": "stream",
          "name": "stdout",
          "text": [
            "Scanning the folder: v 0.7 cm_s\n"
          ]
        },
        {
          "output_type": "stream",
          "name": "stderr",
          "text": [
            "Loading images from v 0.7 cm_s: 100%|██████████| 248/248 [00:14<00:00, 17.28it/s]\n"
          ]
        },
        {
          "output_type": "stream",
          "name": "stdout",
          "text": [
            "Completed! Loaded 18498 images in total.\n"
          ]
        }
      ]
    },
    {
      "cell_type": "code",
      "source": [
        "first_image = images[0]\n",
        "\n",
        "if len(first_image.shape) == 2:\n",
        "    print(\"The image is Grayscale (single channel).\")\n",
        "elif len(first_image.shape) == 3 and first_image.shape[2] == 1:\n",
        "    print(\"The image is Grayscale but stored with an extra dimension.\")\n",
        "elif len(first_image.shape) == 3 and first_image.shape[2] == 3:\n",
        "    print(\"The image is RGB (three channels).\")\n",
        "else:\n",
        "    print(\"Unknown format:\", first_image.shape)\n",
        "\n",
        "first_image.shape"
      ],
      "metadata": {
        "colab": {
          "base_uri": "https://localhost:8080/"
        },
        "id": "R8_m0ACfv4J9",
        "outputId": "0dcf8606-cc9d-4f51-ab35-afe97ee87e7a"
      },
      "execution_count": null,
      "outputs": [
        {
          "output_type": "stream",
          "name": "stdout",
          "text": [
            "The image is RGB (three channels).\n"
          ]
        },
        {
          "output_type": "execute_result",
          "data": {
            "text/plain": [
              "(128, 672, 3)"
            ]
          },
          "metadata": {},
          "execution_count": 6
        }
      ]
    },
    {
      "cell_type": "code",
      "source": [
        "# Show a range of images\n",
        "img=100\n",
        "plt.figure(figsize=(10, 10))\n",
        "for i in range(25):\n",
        "  plt.subplot(5, 5, i+1)\n",
        "  plt.imshow(images[i+img])\n",
        "  plt.title(f'Image {i+img+1}')\n",
        "plt.show()"
      ],
      "metadata": {
        "colab": {
          "base_uri": "https://localhost:8080/",
          "height": 603
        },
        "id": "eUIVarMtGnIJ",
        "outputId": "8078d367-677f-4c0f-f442-70a9a76c17a8"
      },
      "execution_count": null,
      "outputs": [
        {
          "output_type": "display_data",
          "data": {
            "text/plain": [
              "<Figure size 1000x1000 with 25 Axes>"
            ],
            "image/png": "[encoded data removed]"
          },
          "metadata": {}
        }
      ]
    },
    {
      "cell_type": "markdown",
      "source": [
        "## Detect cell"
      ],
      "metadata": {
        "id": "vn7WL7M-11GP"
      }
    },
    {
      "cell_type": "code",
      "source": [
        "if len(images) > 0:\n",
        "    MARGIN = 20\n",
        "    # Process images with pretrained PyTorch U-Net\n",
        "    cropped_cells, cell_metadata, masks, num_fake_cells, num_real_cells = process_cell_images_with_pytorch_unet(\n",
        "        images, labels, target_size=(128, 672), scale=0.5, margin=MARGIN\n",
        "    )\n",
        "\n",
        "    # Print summary\n",
        "    print(f\"\\nProcessing complete:\")\n",
        "    print(f\"- Original images: {len(images)}\")\n",
        "    print(f\"- Extracted cells: {len(cropped_cells)}\")\n",
        "    print(f\"- Margin around cells: {MARGIN} pixels\")\n",
        "    print(f\"- Output saved to: ./cropped_cells\")\n",
        "else:\n",
        "    print(\"No images found in the specified directories.\")"
      ],
      "metadata": {
        "colab": {
          "base_uri": "https://localhost:8080/"
        },
        "id": "ueYlJF7FyIpP",
        "outputId": "9c835986-6c99-42fc-ff14-a34c433e0b2c"
      },
      "execution_count": null,
      "outputs": [
        {
          "output_type": "stream",
          "name": "stdout",
          "text": [
            "Loading pretrained U-Net model from torch.hub...\n"
          ]
        },
        {
          "output_type": "stream",
          "name": "stderr",
          "text": [
            "/usr/local/lib/python3.11/dist-packages/torch/hub.py:330: UserWarning: You are about to download and run code from an untrusted repository. In a future release, this won't be allowed. To add the repository to your trusted list, change the command to {calling_fn}(..., trust_repo=False) and a command prompt will appear asking for an explicit confirmation of trust, or load(..., trust_repo=True), which will assume that the prompt is to be answered with 'yes'. You can also use load(..., trust_repo='check') which will only prompt for confirmation if the repo is not already trusted. This will eventually be the default behaviour\n",
            "  warnings.warn(\n",
            "Downloading: \"https://github.com/milesial/Pytorch-UNet/zipball/master\" to /root/.cache/torch/hub/master.zip\n",
            "Downloading: \"https://github.com/milesial/Pytorch-UNet/releases/download/v3.0/unet_carvana_scale0.5_epoch2.pth\" to /root/.cache/torch/hub/checkpoints/unet_carvana_scale0.5_epoch2.pth\n",
            "100%|██████████| 118M/118M [00:00<00:00, 129MB/s]\n"
          ]
        },
        {
          "output_type": "stream",
          "name": "stdout",
          "text": [
            "Model loaded on GPU\n",
            "Segmenting cells with PyTorch U-Net...\n"
          ]
        }
      ]
    }
  ]
}