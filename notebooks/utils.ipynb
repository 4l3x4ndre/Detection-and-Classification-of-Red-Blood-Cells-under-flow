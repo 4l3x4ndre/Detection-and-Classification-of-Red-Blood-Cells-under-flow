{
 "cells": [
  {
   "cell_type": "markdown",
   "id": "233a3519-6d47-46ee-8ecb-ca067da4ba4b",
   "metadata": {},
   "source": [
    "# Notebooks with utily fonctions\n",
    "\n",
    "- copy and rename files to reorganize datasets"
   ]
  },
  {
   "cell_type": "code",
   "execution_count": 24,
   "id": "c623203b-fbc9-4bb3-8a86-8f65cfa360f8",
   "metadata": {},
   "outputs": [],
   "source": [
    "import os\n",
    "import shutil\n",
    "\n",
    "def copy_and_rename_sequentially(source_root: str, destination_folder: str):\n",
    "    \"\"\"\n",
    "    Copies files from folders under source_root to destination_folder,\n",
    "    renaming them sequentially to avoid collisions.\n",
    "    Assumes files are named as integers (\"0\", \"1\", ..., \"N\") in each folder.\n",
    "    \"\"\"\n",
    "\n",
    "    # Ensure destination exists\n",
    "    os.makedirs(destination_folder, exist_ok=True)\n",
    "\n",
    "    # Start counter\n",
    "    next_index = 0\n",
    "\n",
    "    # Process each subfolder in source_root\n",
    "    for folder_name in sorted(os.listdir(source_root)):\n",
    "        folder_path = os.path.join(source_root, folder_name)\n",
    "        if not os.path.isdir(folder_path):\n",
    "            continue\n",
    "\n",
    "        print(f'Processing folder {folder_name}...')\n",
    "\n",
    "        # List and sort files numerically\n",
    "        files_unsorted = [f for f in os.listdir(folder_path) if f.lower().endswith('.bmp')]\n",
    "        files = sorted(files_unsorted, key=lambda x: int(x.split('.')[0]))\n",
    "        for file_name in files:\n",
    "            src_file = os.path.join(folder_path, file_name)\n",
    "\n",
    "            # Determine destination file path\n",
    "            dst_file = os.path.join(destination_folder, f'{next_index:04d}')\n",
    "            shutil.copy2(src_file, f'{dst_file}.bmp')\n",
    "            next_index += 1\n",
    "\n",
    "    print(f\"All files copied and renamed. Total files: {next_index}\")"
   ]
  },
  {
   "cell_type": "code",
   "execution_count": 27,
   "id": "9eb272fb-d0d2-4b9b-a199-1ceb7422f82a",
   "metadata": {},
   "outputs": [
    {
     "name": "stdout",
     "output_type": "stream",
     "text": [
      "Processing folder 0100mbar...\n",
      "Processing folder 0300mbar...\n",
      "Processing folder 0500mbar...\n",
      "Processing folder 0700mbar...\n",
      "Processing folder 1000mbar...\n",
      "All files copied and renamed. Total files: 81\n"
     ]
    }
   ],
   "source": [
    "copy_and_rename_sequentially(\n",
    "    \"../data/saarland/12_8/Slipper\", \"../data/saarland/slippers\"\n",
    ")"
   ]
  },
  {
   "cell_type": "code",
   "execution_count": null,
   "id": "3722437d-08e3-443f-83b3-4a41bbf6b653",
   "metadata": {},
   "outputs": [],
   "source": []
  }
 ],
 "metadata": {
  "kernelspec": {
   "display_name": "Python 3 (ipykernel)",
   "language": "python",
   "name": "python3"
  },
  "language_info": {
   "codemirror_mode": {
    "name": "ipython",
    "version": 3
   },
   "file_extension": ".py",
   "mimetype": "text/x-python",
   "name": "python",
   "nbconvert_exporter": "python",
   "pygments_lexer": "ipython3",
   "version": "3.12.3"
  }
 },
 "nbformat": 4,
 "nbformat_minor": 5
}
